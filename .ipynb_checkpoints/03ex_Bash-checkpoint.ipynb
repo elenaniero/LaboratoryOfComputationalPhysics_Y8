{
 "cells": [
  {
   "cell_type": "markdown",
   "id": "b5746bd0",
   "metadata": {},
   "source": [
    "The following exercises are meant to be solved by gathering the bash commands incrimentally in two scripts, one for ex 1.* the other for ex 2.* "
   ]
  },
  {
   "cell_type": "markdown",
   "id": "4e60de78",
   "metadata": {},
   "source": [
    "### Ex 1"
   ]
  },
  {
   "cell_type": "markdown",
   "id": "6759df36",
   "metadata": {},
   "source": [
    "1\\.a Make a new directory called `students` in your home. Download a csv file with the list of students of this lab from [here](https://www.dropbox.com/s/867rtx3az6e9gm8/LCP_22-23_students.csv) (use the `wget` command) and copy that to `students`. First check whether the file is already there"
   ]
  },
  {
   "cell_type": "code",
   "execution_count": null,
   "id": "ad4de6d8-b8b2-44b3-a117-f0df2aaf8dff",
   "metadata": {},
   "outputs": [],
   "source": [
    "mkdir students #crea la cartella\n",
    "wget https://www.dropbox.com/scl/fi/bxv17nrbrl83vw6qrkiu9/LCP_22-23_students.csv?rlkey=47fakvatrtif3q3qw4q97p5b7&e=1 #scarica il file\n",
    "find . -name 'LCP_22-23_students.csv?rlkey=47fakvatrtif3q3qw4q97p5b7' #controlla dov'è il file\n",
    "cp LCP_22-23_students.csv?rlkey=47fakvatrtif3q3qw4q97p5b7 ./students #copia il file in students\n",
    "cd students"
   ]
  },
  {
   "cell_type": "markdown",
   "id": "798c0c9d",
   "metadata": {},
   "source": [
    "1\\.b Make two new files, one containing the students belonging to PoD, the other to Physics."
   ]
  },
  {
   "cell_type": "markdown",
   "id": "64cd01b6-614d-4ca0-90f6-b655aacbfd57",
   "metadata": {},
   "source": [
    "touch PoD_students\n",
    "touch Physics_students\n",
    "grep \"PoD\" LCP_22-23_students.csv?rlkey=47fakvatrtif3q3qw4q97p5b7 >> PoD_students\n",
    "grep \"Physics\" LCP_22-23_students.csv?rlkey=47fakvatrtif3q3qw4q97p5b7 >> Physics_students"
   ]
  },
  {
   "cell_type": "markdown",
   "id": "8a43d622",
   "metadata": {},
   "source": [
    "1\\.c For each letter of the alphabet, count the number of students whose surname starts with that letter. "
   ]
  },
  {
   "cell_type": "markdown",
   "id": "da7bbccf-9cd2-4c05-baa0-a17ff3845f13",
   "metadata": {},
   "source": [
    "touch number_letters\n",
    "for i in {A..Z}; do grep -c \"^$i\" LCP_22-23_students.csv?rlkey=47fakvatrtif3q3qw4q97p5b7 >> number_letters; done #DEVO RIMUOVERE LA PRIMA RIGA!"
   ]
  },
  {
   "cell_type": "markdown",
   "id": "4ba6bc90",
   "metadata": {},
   "source": [
    "1\\.d Find out which is the letter with most counts."
   ]
  },
  {
   "cell_type": "markdown",
   "id": "efe60836-71a7-40b6-9650-5eec36cf201a",
   "metadata": {},
   "source": [
    "paste <(printf \"%s\\n\" {A..Z}) number_letters | sort -k2,2nr | head -1 \n",
    "# paste <(printf \"%s\\n\" {A..Z}) number_letters = Incolla le lettere in ordine alfabetico all'inizio di ogni riga\n",
    "# sort -k2,2nr = ordina in ordine numerico (-n) e decrescente (-r) guardando la seconda colonna\n",
    "# head -1 = prende la prima riga del file"
   ]
  },
  {
   "cell_type": "markdown",
   "id": "086a043c",
   "metadata": {},
   "source": [
    "1\\.e Assume an obvious numbering of the students in the file (first line is 1, second line is 2, etc.), group students \"modulo 18\", i.e. 1,19,37,.. 2,20,38,.. etc. and put each group in a separate file  "
   ]
  },
  {
   "cell_type": "markdown",
   "id": "1d730d21",
   "metadata": {},
   "source": [
    "### Ex 2"
   ]
  },
  {
   "cell_type": "markdown",
   "id": "4b87ecb7",
   "metadata": {},
   "source": [
    "2.a Make a copy of the file `data.csv` removing the metadata and the commas between numbers; call it `data.txt`"
   ]
  },
  {
   "cell_type": "markdown",
   "id": "344048c8",
   "metadata": {},
   "source": [
    "2\\.b How many even numbers are there?"
   ]
  },
  {
   "cell_type": "markdown",
   "id": "2a27138d",
   "metadata": {},
   "source": [
    "2\\.c Distinguish the entries on the basis of `sqrt(X^2 + Y^2 + Z^2)` is greater or smaller than `100*sqrt(3)/2`. Count the entries of each of the two groups "
   ]
  },
  {
   "cell_type": "markdown",
   "id": "e937ef4e",
   "metadata": {},
   "source": [
    "2\\.d Make `n` copies of data.txt (with `n` an input parameter of the script), where the i-th copy has all the numbers divided by i (with `1<=i<=n`)."
   ]
  }
 ],
 "metadata": {
  "kernelspec": {
   "display_name": "Python 3 (ipykernel)",
   "language": "python",
   "name": "python3"
  },
  "language_info": {
   "codemirror_mode": {
    "name": "ipython",
    "version": 3
   },
   "file_extension": ".py",
   "mimetype": "text/x-python",
   "name": "python",
   "nbconvert_exporter": "python",
   "pygments_lexer": "ipython3",
   "version": "3.8.10"
  }
 },
 "nbformat": 4,
 "nbformat_minor": 5
}
