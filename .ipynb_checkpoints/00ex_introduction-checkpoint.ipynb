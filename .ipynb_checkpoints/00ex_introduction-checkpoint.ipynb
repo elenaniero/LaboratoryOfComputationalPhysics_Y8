{
 "cells": [
  {
   "cell_type": "markdown",
   "metadata": {},
   "source": [
    "1. The MickeyMouse problem\n",
    "\n",
    "a) Write a program that prints the numbers from 1 to 100. But for multiples of 3 print `Mickey` instead of the corresponding number and for the multiples of 5 print `Mouse`. For numbers which are multiples of both three and five print `MickeyMouse` \n",
    "\n",
    "the if with x%15==0 must be placed before everything because if we do %3 and %5 before the %15 will never be done. \n",
    "\n",
    "b) Put the result in a tuple and substitute `Mickey` with `Donald` and `Mouse` with `Duck`"
   ]
  },
  {
   "cell_type": "code",
   "execution_count": 22,
   "metadata": {},
   "outputs": [
    {
     "name": "stdout",
     "output_type": "stream",
     "text": [
      "[1, 2, 'Mickey', 4, 'Mouse', 'Mickey', 7, 8, 'Mickey', 'Mouse', 11, 'Mickey', 13, 14, 'MickeyMouse', 16, 17, 'Mickey', 19, 'Mouse', 'Mickey', 22, 23, 'Mickey', 'Mouse', 26, 'Mickey', 28, 29, 'MickeyMouse', 31, 32, 'Mickey', 34, 'Mouse', 'Mickey', 37, 38, 'Mickey', 'Mouse', 41, 'Mickey', 43, 44, 'MickeyMouse', 46, 47, 'Mickey', 49, 'Mouse', 'Mickey', 52, 53, 'Mickey', 'Mouse', 56, 'Mickey', 58, 59, 'MickeyMouse', 61, 62, 'Mickey', 64, 'Mouse', 'Mickey', 67, 68, 'Mickey', 'Mouse', 71, 'Mickey', 73, 74, 'MickeyMouse', 76, 77, 'Mickey', 79, 'Mouse', 'Mickey', 82, 83, 'Mickey', 'Mouse', 86, 'Mickey', 88, 89, 'MickeyMouse', 91, 92, 'Mickey', 94, 'Mouse', 'Mickey', 97, 98, 'Mickey', 'Mouse']\n"
     ]
    }
   ],
   "source": [
    "y=['MickeyMouse' if x%15==0 else'Mickey' if x%3==0 else 'Mouse' if x%5==0 else x for x in range(1,101)]\n",
    "print(y)"
   ]
  },
  {
   "cell_type": "markdown",
   "metadata": {},
   "source": [
    "2\\. The swap function\n",
    "\n",
    "Write a function that swap the values of two input variables x and y (whatever the type). Try to do that also without a temporary variable"
   ]
  },
  {
   "cell_type": "code",
   "execution_count": 25,
   "metadata": {},
   "outputs": [
    {
     "name": "stdin",
     "output_type": "stream",
     "text": [
      "Set the value of x  3\n",
      "Set the valure of y  5\n"
     ]
    },
    {
     "name": "stdout",
     "output_type": "stream",
     "text": [
      "x= 3\n",
      "y= 5\n",
      "x= 5\n",
      "y= 3\n"
     ]
    }
   ],
   "source": [
    "#with temporary variables\n",
    "x=input('Set the value of x ')\n",
    "y=input('Set the valure of y ')\n",
    "print('x = '+ x)\n",
    "print('y = '+ y)\n",
    "a=y\n",
    "b=x\n",
    "x=a\n",
    "y=b\n",
    "print('x = ' + x)\n",
    "print('y = '+ y)"
   ]
  },
  {
   "cell_type": "code",
   "execution_count": 26,
   "metadata": {},
   "outputs": [
    {
     "name": "stdin",
     "output_type": "stream",
     "text": [
      "Set the value of x  3\n",
      "Set the valure of y  5\n"
     ]
    },
    {
     "name": "stdout",
     "output_type": "stream",
     "text": [
      "x= 3\n",
      "y= 5\n",
      "x= 5\n",
      "y= 3\n"
     ]
    }
   ],
   "source": [
    "#without a temporary variable\n",
    "x=input('Set the value of x ')\n",
    "y=input('Set the valure of y ')\n",
    "print('x = '+ x)\n",
    "print('y = '+ y)\n",
    "x,y=y,x\n",
    "print('x = ' + x)\n",
    "print('y = '+ y)"
   ]
  },
  {
   "cell_type": "markdown",
   "metadata": {},
   "source": [
    "3\\. Computing the distance\n",
    "\n",
    "Write a function that calculates and returns the euclidean distance between two points *u* and *v*, where *u* and *v* are both 2-tuples *(x,y)*. For example, if *u=(3,0)* and *v=(0,4)*, the function should return 5\n",
    "\n",
    "With the 2-tuples in input we should sai to python that the inputs are float, because the inputs are strings in basic. Otherwise he can't do the math operations after."
   ]
  },
  {
   "cell_type": "code",
   "execution_count": 33,
   "metadata": {},
   "outputs": [
    {
     "name": "stdout",
     "output_type": "stream",
     "text": [
      "5.0\n"
     ]
    }
   ],
   "source": [
    "u = (3,0)\n",
    "v = (0,4)\n",
    "distance =((u[0] - v[0])**2 + (u[1] - v[1])**2)**0.5\n",
    "print(distance)"
   ]
  },
  {
   "cell_type": "code",
   "execution_count": 37,
   "metadata": {},
   "outputs": [
    {
     "name": "stdin",
     "output_type": "stream",
     "text": [
      "Set u[0] :  2\n",
      "Set u[1] :  0\n",
      "Set v[0] :  2\n",
      "Set v[1] :  0\n"
     ]
    },
    {
     "name": "stdout",
     "output_type": "stream",
     "text": [
      "0.0\n"
     ]
    }
   ],
   "source": [
    "u_0=float(input('Set u[0] : '))\n",
    "u_1=float(input('Set u[1] : '))\n",
    "v_0=float(input('Set v[0] : '))\n",
    "v_1=float(input('Set v[1] : '))\n",
    "u = (u_0, u_1)\n",
    "v = (v_0, v_1)\n",
    "distance =((u[0] - v[0])**2 + (u[1] - v[1])**2)**0.5\n",
    "print(distance)"
   ]
  },
  {
   "cell_type": "markdown",
   "metadata": {},
   "source": [
    "4\\. Counting letters\n",
    "\n",
    "Write a program to calculate the number of times each character occurs in a given string *s*. Ignore differneces in capitalization"
   ]
  },
  {
   "cell_type": "code",
   "execution_count": 47,
   "metadata": {},
   "outputs": [
    {
     "name": "stdout",
     "output_type": "stream",
     "text": [
      "a: 7\n",
      "b: 5\n",
      "c: 3\n",
      "d: 3\n",
      "e: 22\n",
      "f: 10\n",
      "g: 1\n",
      "h: 9\n",
      "i: 14\n",
      "k: 2\n",
      "l: 6\n",
      "m: 12\n",
      "n: 10\n",
      "o: 13\n",
      "p: 8\n",
      "r: 17\n",
      "s: 9\n",
      "t: 19\n",
      "u: 9\n",
      "v: 2\n",
      "w: 2\n",
      "y: 2\n"
     ]
    }
   ],
   "source": [
    "s = \"Write a program that prints the numbers from 1 to 100. \\\n",
    "But for multiples of three print Mickey instead of the number and for the multiples of five print Mouse. \\\n",
    "For numbers which are multiples of both three and five print MickeyMouse\"\n",
    "# Convert to lowercase to ignore capitalization\n",
    "s = s.lower()\n",
    "# Dictionary to store counts\n",
    "char_count = {}\n",
    "\n",
    "for char in s:\n",
    "    if char.isalpha():  # consider only letters (ignore spaces/punctuation)\n",
    "        if char in char_count:\n",
    "            char_count[char] += 1\n",
    "        else:\n",
    "            char_count[char] = 1\n",
    "\n",
    "# Print the results\n",
    "for char, count in sorted(char_count.items()):\n",
    "    print(f\"{char}: {count}\")\n"
   ]
  },
  {
   "cell_type": "markdown",
   "metadata": {},
   "source": [
    "5\\. Isolating the unique\n",
    "\n",
    "Write a function that determines and count the unique numbers in the list *l*"
   ]
  },
  {
   "cell_type": "code",
   "execution_count": 19,
   "metadata": {},
   "outputs": [
    {
     "name": "stdout",
     "output_type": "stream",
     "text": [
      "Numbers appearing exactly once: [58, 74, 96, 64, 10, 24, 19, 33, 86, 99, 18, 47, 88, 55, 54, 8, 79, 81, 57, 37, 1, 9, 95, 90, 98, 39, 16, 82, 92, 41, 30, 94, 5, 72, 87, 75, 53]\n",
      "Count of numbers appearing exactly once: 37\n"
     ]
    }
   ],
   "source": [
    "from collections import Counter\n",
    "\n",
    "def unique_numbers(lst):\n",
    "    # Count the frequency of each number\n",
    "    counts = Counter(lst)\n",
    "    # Keep only numbers that appear exactly once\n",
    "    unique_once = [num for num, freq in counts.items() if freq == 1]\n",
    "    count = len(unique_once)\n",
    "    return unique_once, count\n",
    "\n",
    "# Your list\n",
    "l = [36, 45, 58, 3, 74, 96, 64, 45, 31, 10, 24, 19, 33, 86, 99, 18, 63, 70, 85,\n",
    "     85, 63, 47, 56, 42, 70, 84, 88, 55, 20, 54, 8, 56, 51, 79, 81, 57, 37, 91,\n",
    "     1, 84, 84, 36, 66, 9, 89, 50, 42, 91, 50, 95, 90, 98, 39, 16, 82, 31, 92, 41,\n",
    "     45, 30, 66, 70, 34, 85, 94, 5, 3, 36, 72, 91, 84, 34, 87, 75, 53, 51, 20, 89, 51, 20]\n",
    "\n",
    "unique_once, count = unique_numbers(l)\n",
    "print(\"Numbers appearing exactly once:\", unique_once)\n",
    "print(\"Count of numbers appearing exactly once:\", count)"
   ]
  },
  {
   "cell_type": "markdown",
   "metadata": {},
   "source": [
    "6\\. Combination of functions\n",
    "\n",
    "Write two functions - one that returns the square of a number, and one that returns the cube. Now write a third function that returns the number raised to the 6th power using the two previous functions."
   ]
  },
  {
   "cell_type": "code",
   "execution_count": 27,
   "metadata": {},
   "outputs": [
    {
     "name": "stdin",
     "output_type": "stream",
     "text": [
      "Set x:  2\n"
     ]
    },
    {
     "name": "stdout",
     "output_type": "stream",
     "text": [
      "The square of x is:  4.0\n",
      "The cube of x is:  8.0\n",
      "The 6th power of x is:  64.0\n"
     ]
    }
   ],
   "source": [
    "def square(float):\n",
    "    x = float**2\n",
    "    return x\n",
    "def cube(float):\n",
    "    y = float**3\n",
    "    return y\n",
    "def sixth(float):\n",
    "    z = square(cube(float))\n",
    "    return z\n",
    "\n",
    "x = float(input('Set x: ' ))\n",
    "y = square(x)\n",
    "z = cube(x)\n",
    "w = sixth(x)\n",
    "print('The square of x is: ', y)\n",
    "print('The cube of x is: ', z)\n",
    "print('The 6th power of x is: ', w)"
   ]
  },
  {
   "cell_type": "code",
   "execution_count": 29,
   "metadata": {},
   "outputs": [
    {
     "name": "stdin",
     "output_type": "stream",
     "text": [
      "Set x:  3\n"
     ]
    },
    {
     "name": "stdout",
     "output_type": "stream",
     "text": [
      "The square of x is:  9.0\n",
      "The cube of x is:  27.0\n",
      "The 6th power of x is:  729.0\n"
     ]
    }
   ],
   "source": [
    "def square(x):\n",
    "    return x**2\n",
    "def cube(x):\n",
    "    return x**3\n",
    "def sixth(x):\n",
    "    return square(cube(x))\n",
    "\n",
    "x = float(input('Set x: ' ))\n",
    "y = square(x)\n",
    "z = cube(x)\n",
    "w = sixth(x)\n",
    "print('The square of x is: ', y)\n",
    "print('The cube of x is: ', z)\n",
    "print('The 6th power of x is: ', w)"
   ]
  },
  {
   "cell_type": "markdown",
   "metadata": {},
   "source": [
    "7\\. Cubes\n",
    "\n",
    "Create a list of the cubes of x for x in *[0, 10]* using:\n",
    "\n",
    "a) a for loop\n",
    "\n",
    "b) a list comprehension"
   ]
  },
  {
   "cell_type": "code",
   "execution_count": 36,
   "metadata": {},
   "outputs": [
    {
     "name": "stdout",
     "output_type": "stream",
     "text": [
      "[0, 1, 8, 27, 64, 125, 216, 343, 512, 729, 1000]\n"
     ]
    }
   ],
   "source": [
    "#with the for loop\n",
    "l = [] #create an empty list\n",
    "for i in range(11):\n",
    "    l.append(i**3)\n",
    "print(l)"
   ]
  },
  {
   "cell_type": "code",
   "execution_count": 41,
   "metadata": {},
   "outputs": [
    {
     "name": "stdout",
     "output_type": "stream",
     "text": [
      "[0, 1, 8, 27, 64, 125, 216, 343, 512, 729, 1000]\n"
     ]
    }
   ],
   "source": [
    "#with the list comprehension\n",
    "l = [i**3 for i  in range(11)]\n",
    "print(l)"
   ]
  },
  {
   "cell_type": "markdown",
   "metadata": {},
   "source": [
    "8\\. Nested list comprehension\n",
    "\n",
    "A Pythagorean triple is an integer solution to the Pythagorean theorem $a^2+b^2=c^2$. The first Pythagorean triple is (3,4,5). Find and put in a tuple all unique Pythagorean triples for the positive integers a, b and c less than 100."
   ]
  },
  {
   "cell_type": "code",
   "execution_count": null,
   "metadata": {},
   "outputs": [],
   "source": [
    "# Using nested list comprehension\n",
    "pythagorean_triples = tuple(\n",
    "    (a, b, c)\n",
    "    for a in range(1, 100)\n",
    "    for b in range(a, 100)      # start from a to avoid duplicates like (4,3,5)\n",
    "    for c in range(b, 100)      # start from b to ensure c >= b >= a\n",
    "    if a**2 + b**2 == c**2\n",
    ")\n",
    "\n",
    "print(pythagorean_triples)\n",
    "print(\"Total triples found:\", len(pythagorean_triples))"
   ]
  },
  {
   "cell_type": "markdown",
   "metadata": {},
   "source": [
    "9\\. Normalization\n",
    "\n",
    "Write a function that takes a tuple of numbers and returns it with the entries normalized to one"
   ]
  },
  {
   "cell_type": "code",
   "execution_count": 51,
   "metadata": {},
   "outputs": [
    {
     "name": "stdin",
     "output_type": "stream",
     "text": [
      "Write a tuple of numbers:  0 0 0\n"
     ]
    },
    {
     "name": "stdout",
     "output_type": "stream",
     "text": [
      "(0.0, 0.0, 0.0)\n"
     ]
    }
   ],
   "source": [
    "def normalization(t):\n",
    "    total = sum(t)\n",
    "    if total == 0:\n",
    "        return(t)\n",
    "    return(tuple(round(x/total,1) for x in t))\n",
    "\n",
    "s = input('Write a tuple of numbers: ')\n",
    "t = tuple(float(x) for x in s.split())\n",
    "norm = normalization(t)\n",
    "print(norm)\n",
    "    "
   ]
  },
  {
   "cell_type": "code",
   "execution_count": null,
   "metadata": {},
   "outputs": [],
   "source": []
  }
 ],
 "metadata": {
  "kernelspec": {
   "display_name": "Python 3 (ipykernel)",
   "language": "python",
   "name": "python3"
  },
  "language_info": {
   "codemirror_mode": {
    "name": "ipython",
    "version": 3
   },
   "file_extension": ".py",
   "mimetype": "text/x-python",
   "name": "python",
   "nbconvert_exporter": "python",
   "pygments_lexer": "ipython3",
   "version": "3.8.10"
  }
 },
 "nbformat": 4,
 "nbformat_minor": 4
}
