{
 "cells": [
  {
   "cell_type": "markdown",
   "metadata": {},
   "source": [
    "0\\. Implement a function (whatever you want) and save it to a file (e.g. `function.py`). Import that file and use that function in this notebook.\n"
   ]
  },
  {
   "cell_type": "code",
   "execution_count": 13,
   "metadata": {},
   "outputs": [
    {
     "name": "stdout",
     "output_type": "stream",
     "text": [
      "function.py created successfully!\n"
     ]
    }
   ],
   "source": [
    "code = \"\"\"\n",
    "def square(x):\n",
    "    \\\"\\\"\\\"Return the square of a number.\\\"\\\"\\\"\n",
    "    return x * x\n",
    "\"\"\"\n",
    "\n",
    "with open(\"function.py\", \"w\") as f:\n",
    "    f.write(code)\n",
    "\n",
    "print(\"function.py created successfully!\")\n"
   ]
  },
  {
   "cell_type": "code",
   "execution_count": 6,
   "metadata": {},
   "outputs": [
    {
     "name": "stdin",
     "output_type": "stream",
     "text": [
      "Set the value of x:  3.4\n"
     ]
    },
    {
     "name": "stdout",
     "output_type": "stream",
     "text": [
      "Il quadrato di x è:  11.559999999999999\n"
     ]
    }
   ],
   "source": [
    "import function\n",
    "\n",
    "x= float(input(\"Set the value of x: \"))\n",
    "y= function.square(x)\n",
    "\n",
    "print(\"Il quadrato di x è: \", y)"
   ]
  },
  {
   "cell_type": "markdown",
   "metadata": {},
   "source": [
    "1\\. Write the following as a list comprehension"
   ]
  },
  {
   "cell_type": "code",
   "execution_count": 12,
   "metadata": {},
   "outputs": [
    {
     "name": "stdout",
     "output_type": "stream",
     "text": [
      "[(0, 0), (0, 1), (0, 2), (0, 3), (1, 0), (1, 1), (1, 2), (1, 3), (2, 0), (2, 1), (2, 2), (2, 3)]\n",
      "[0, 4, 16]\n"
     ]
    }
   ],
   "source": [
    "# 1\n",
    "ans = []\n",
    "for i in range(3):\n",
    "    for j in range(4):\n",
    "        ans.append((i, j))\n",
    "print (ans)\n",
    "\n",
    "# 2\n",
    "ans = map(lambda x: x*x, filter(lambda x: x%2 == 0, range(5)))\n",
    "print (list(ans))"
   ]
  },
  {
   "cell_type": "code",
   "execution_count": 10,
   "metadata": {},
   "outputs": [
    {
     "name": "stdout",
     "output_type": "stream",
     "text": [
      "[(0, 0), (0, 1), (0, 2), (0, 3), (1, 0), (1, 1), (1, 2), (1, 3), (2, 0), (2, 1), (2, 2), (2, 3)]\n"
     ]
    }
   ],
   "source": [
    "# 1\n",
    "ans=[(i,j) for i in range(3) for j in range(4)]\n",
    "print(ans)"
   ]
  },
  {
   "cell_type": "code",
   "execution_count": 17,
   "metadata": {},
   "outputs": [
    {
     "name": "stdout",
     "output_type": "stream",
     "text": [
      "[0, 4, 16]\n"
     ]
    }
   ],
   "source": [
    "# 2\n",
    "ans=[x*x for x in range(5) if x%2==0 ]\n",
    "print(ans)"
   ]
  },
  {
   "cell_type": "markdown",
   "metadata": {},
   "source": [
    "2\\. Convert the following function into a pure function with no global variables or side effects"
   ]
  },
  {
   "cell_type": "code",
   "execution_count": 20,
   "metadata": {},
   "outputs": [
    {
     "name": "stdout",
     "output_type": "stream",
     "text": [
      "[1, 2, 3, 0, 1, 2, 3, 4]\n",
      "[1, 2, 3, 0, 1, 2, 3, 4]\n"
     ]
    }
   ],
   "source": [
    "x = 5\n",
    "def f(alist):\n",
    "    for i in range(x):\n",
    "         alist.append(i)\n",
    "    return alist\n",
    "\n",
    "alist = [1,2,3]\n",
    "ans = f(alist)\n",
    "print (ans)\n",
    "print (alist) # alist has been changed!"
   ]
  },
  {
   "cell_type": "code",
   "execution_count": 24,
   "metadata": {},
   "outputs": [
    {
     "name": "stdout",
     "output_type": "stream",
     "text": [
      "[1, 2, 3]\n",
      "[1, 2, 3, 0, 1, 2, 3, 4]\n"
     ]
    }
   ],
   "source": [
    "#togliamo anche le variabili globali:\n",
    "def f(alist,x):\n",
    "    for i in range(x):\n",
    "         alist.append(i)\n",
    "    return alist\n",
    "\n",
    "alist = [1,2,3]\n",
    "print (alist)\n",
    "ans = f(alist,5)\n",
    "print (ans)\n"
   ]
  },
  {
   "cell_type": "code",
   "execution_count": 25,
   "metadata": {},
   "outputs": [
    {
     "name": "stdout",
     "output_type": "stream",
     "text": [
      "[1, 2, 3, 0, 1, 2, 3, 4]\n",
      "[1, 2, 3]\n"
     ]
    }
   ],
   "source": [
    "#togliamo anche le variabili globali\n",
    "def f(alist,x):\n",
    "    for i in range(x):\n",
    "         alist = alist +[i]\n",
    "    return alist\n",
    "\n",
    "alist = [1,2,3]\n",
    "ans = f(alist,5)\n",
    "print (ans)\n",
    "print (alist) "
   ]
  },
  {
   "cell_type": "code",
   "execution_count": 26,
   "metadata": {},
   "outputs": [
    {
     "name": "stdout",
     "output_type": "stream",
     "text": [
      "[1, 2, 3, 0, 1, 2, 3, 4]\n",
      "[1, 2, 3]\n"
     ]
    }
   ],
   "source": [
    "#togliamo anche le variabili globali e usiamo copy\n",
    "def f(alist,x):\n",
    "    new_list = alist.copy() \n",
    "    for i in range(x):\n",
    "         new_list.append(i)\n",
    "    return new_list\n",
    "\n",
    "alist = [1,2,3]\n",
    "ans = f(alist,5)\n",
    "print (ans)\n",
    "print (alist) "
   ]
  },
  {
   "cell_type": "markdown",
   "metadata": {},
   "source": [
    "3\\. Write a `decorator` hello that makes every wrapped function print “Hello!”, i.e. something like:\n",
    "\n",
    "```python\n",
    "@hello\n",
    "def square(x):\n",
    "    return x*x\n",
    "```\n",
    "\n"
   ]
  },
  {
   "cell_type": "code",
   "execution_count": 36,
   "metadata": {},
   "outputs": [
    {
     "name": "stdin",
     "output_type": "stream",
     "text": [
      "Set x value:  3\n"
     ]
    },
    {
     "name": "stdout",
     "output_type": "stream",
     "text": [
      "Hello!\n",
      "9.0\n",
      "Hello!\n"
     ]
    }
   ],
   "source": [
    "def hello(func):\n",
    "    def wrapper(*args, **kwargs):\n",
    "        print(\"Hello!\")\n",
    "        func(*args, **kwargs)\n",
    "        print(\"Hello!\")\n",
    "    return wrapper\n",
    "\n",
    "@hello\n",
    "def square(x):\n",
    "    print(x*x)\n",
    "    return x*x\n",
    "\n",
    "x=float(input(\"Set x value: \"))\n",
    "\n",
    "square(x)"
   ]
  },
  {
   "cell_type": "code",
   "execution_count": 37,
   "metadata": {},
   "outputs": [
    {
     "name": "stdin",
     "output_type": "stream",
     "text": [
      "Set x value:  4\n"
     ]
    },
    {
     "name": "stdout",
     "output_type": "stream",
     "text": [
      "Hello!\n",
      "16.0\n",
      "Hello!\n"
     ]
    }
   ],
   "source": [
    "#we can also put the printing inside the decorator rather than inside square, in this way the function square is reusable\n",
    "def hello(func):\n",
    "    def wrapper(*args, **kwargs):\n",
    "        print(\"Hello!\")\n",
    "        y = func(*args, **kwargs)\n",
    "        print(y)\n",
    "        print(\"Hello!\")\n",
    "    return wrapper\n",
    "\n",
    "@hello\n",
    "def square(x):\n",
    "    return x*x\n",
    "\n",
    "x=float(input(\"Set x value: \"))\n",
    "\n",
    "square(x)"
   ]
  },
  {
   "cell_type": "markdown",
   "metadata": {},
   "source": [
    "4\\. Write the factorial function so that it a) does and b) does not use recursion."
   ]
  },
  {
   "cell_type": "code",
   "execution_count": 59,
   "metadata": {},
   "outputs": [
    {
     "name": "stdin",
     "output_type": "stream",
     "text": [
      "Set the x value:  3\n"
     ]
    },
    {
     "name": "stdout",
     "output_type": "stream",
     "text": [
      "The factorial of x with recursion is:  6\n"
     ]
    }
   ],
   "source": [
    "#a) with recursion\n",
    "def factorial(n):\n",
    "    if n==0 or n==1:\n",
    "        return 1\n",
    "    else:\n",
    "        return n*factorial(n-1)\n",
    "\n",
    "x=int(input(\"Set the x value: \"))\n",
    "print (\"The factorial of x with recursion is: \", factorial(x))"
   ]
  },
  {
   "cell_type": "code",
   "execution_count": 60,
   "metadata": {},
   "outputs": [
    {
     "name": "stdin",
     "output_type": "stream",
     "text": [
      "Set the x value:  4\n"
     ]
    },
    {
     "name": "stdout",
     "output_type": "stream",
     "text": [
      "The factorial of x without recursion is:  24\n"
     ]
    }
   ],
   "source": [
    "#b) without recursion\n",
    "def factorial(n):\n",
    "    if n==0 or n==1:\n",
    "        return 1\n",
    "    else:\n",
    "        fact=1\n",
    "        for i in range(1, n+1):\n",
    "            fact *= i\n",
    "        return fact\n",
    "\n",
    "x=int(input(\"Set the x value: \"))\n",
    "print (\"The factorial of x without recursion is: \", factorial(x))"
   ]
  },
  {
   "cell_type": "markdown",
   "metadata": {},
   "source": [
    "5\\. Use HOFs (zip in particular) to compute the weight of a circle, a disk and a sphere, assuming different radii and different densities:\n",
    "\n",
    "```python\n",
    "densities = {\"Al\":[0.5,1,2],\"Fe\":[3,4,5],\"Pb\": [15,20,30]}\n",
    "radii = [1,2,3]\n",
    "```\n",
    "\n",
    "where the entries of the dictionary's values are the linear, superficial and volumetric densities of the materials respectively.\n",
    "\n",
    "In particular define a list of three lambda functions using a comprehension that computes the circumference, the area and the volume for a given radius.\n"
   ]
  },
  {
   "cell_type": "code",
   "execution_count": 20,
   "metadata": {},
   "outputs": [
    {
     "name": "stdout",
     "output_type": "stream",
     "text": [
      "Weight of the circle in Al:  3.141592653589793\n",
      "Weight of the disk in Al:  12.566370614359172\n",
      "Weight of the sphere in Al:  226.19467105846508\n",
      "\n",
      "Weight of the circle in Fe:  18.84955592153876\n",
      "Weight of the disk in Fe:  50.26548245743669\n",
      "Weight of the sphere in Fe:  565.4866776461627\n",
      "\n",
      "Weight of the circle in Pb:  94.24777960769379\n",
      "Weight of the disk in Pb:  251.32741228718345\n",
      "Weight of the sphere in Pb:  3392.920065876976\n"
     ]
    }
   ],
   "source": [
    "import math\n",
    "\n",
    "densities = {\"Al\":[0.5,1,2],\"Fe\":[3,4,5],\"Pb\": [15,20,30]}\n",
    "radii = [1,2,3]\n",
    "lambdas = [ \n",
    "    lambda:  2 * math.pi * radii[0] , \n",
    "    lambda: math.pi * radii[1] **2 , \n",
    "    lambda: 4/3 * math.pi * radii[2] **3\n",
    "]\n",
    "\n",
    "cav = []\n",
    "\n",
    "for f in lambdas:\n",
    "    cav.append(f())\n",
    "print(\"Weight of the circle in Al: \", densities[\"Al\"][0]*cav[0])\n",
    "print(\"Weight of the disk in Al: \", densities[\"Al\"][1]*cav[1])\n",
    "print(\"Weight of the sphere in Al: \", densities[\"Al\"][2]*cav[2])\n",
    "print()\n",
    "print(\"Weight of the circle in Fe: \", densities[\"Fe\"][0]*cav[0])\n",
    "print(\"Weight of the disk in Fe: \", densities[\"Fe\"][1]*cav[1])\n",
    "print(\"Weight of the sphere in Fe: \", densities[\"Fe\"][2]*cav[2])\n",
    "print()\n",
    "print(\"Weight of the circle in Pb: \", densities[\"Pb\"][0]*cav[0])\n",
    "print(\"Weight of the disk in Pb: \", densities[\"Pb\"][1]*cav[1])\n",
    "print(\"Weight of the sphere in Pb: \", densities[\"Pb\"][2]*cav[2])\n",
    "\n"
   ]
  },
  {
   "cell_type": "code",
   "execution_count": 21,
   "metadata": {},
   "outputs": [
    {
     "name": "stdout",
     "output_type": "stream",
     "text": [
      "Weight of the circle in  Al :  3.141592653589793\n",
      "Weight of the disk in  Al :  12.566370614359172\n",
      "Weight of the sphere in  Al :  226.19467105846508\n",
      "\n",
      "Weight of the circle in  Fe :  18.84955592153876\n",
      "Weight of the disk in  Fe :  50.26548245743669\n",
      "Weight of the sphere in  Fe :  565.4866776461627\n",
      "\n",
      "Weight of the circle in  Pb :  94.24777960769379\n",
      "Weight of the disk in  Pb :  251.32741228718345\n",
      "Weight of the sphere in  Pb :  3392.920065876976\n",
      "\n"
     ]
    }
   ],
   "source": [
    "#more elegant way\n",
    "import math\n",
    "\n",
    "densities = {\"Al\":[0.5,1,2],\"Fe\":[3,4,5],\"Pb\": [15,20,30]}\n",
    "radii = [1,2,3]\n",
    "lambdas = [ \n",
    "    lambda:  2 * math.pi * radii[0] , \n",
    "    lambda: math.pi * radii[1] **2 , \n",
    "    lambda: 4/3 * math.pi * radii[2] **3\n",
    "]\n",
    "\n",
    "cav = [f() for f in lambdas]\n",
    "\n",
    "materials = [\"Al\", \"Fe\", \"Pb\"]\n",
    "for i in materials:\n",
    "    print(\"Weight of the circle in \", i, \": \", densities[i][0]*cav[0])\n",
    "    print(\"Weight of the disk in \", i, \": \", densities[i][1]*cav[1])\n",
    "    print(\"Weight of the sphere in \", i, \": \", densities[i][2]*cav[2])\n",
    "    print()\n",
    "    \n"
   ]
  },
  {
   "cell_type": "markdown",
   "metadata": {},
   "source": [
    "6\\. Edit the class defintion to add an instance attribute of is_hungry = True to the Dog class. Then add a method called eat() which changes the value of is_hungry to False when called. Figure out the best way to feed each dog and then output “My dogs are hungry.” if all are hungry or “My dogs are not hungry.” if all are not hungry. The final output should look like this:\n",
    "\n",
    "`I have 3 dogs. \n",
    "Tom is 6. \n",
    "Fletcher is 7. \n",
    "Larry is 9. \n",
    "And they're all mammals, of course. \n",
    "My dogs are not hungry.\n",
    "`\n",
    "\n",
    "```python\n",
    "# Parent class\n",
    "class Dog:\n",
    "\n",
    "    # Class attribute\n",
    "    species = 'mammal'\n",
    "\n",
    "    # Initializer / Instance attributes\n",
    "    def __init__(self, name, age):\n",
    "        self.name = name\n",
    "        self.age = age\n",
    "\n",
    "    # instance method\n",
    "    def description(self):\n",
    "        return \"{} is {} years old\".format(self.name, self.age)\n",
    "\n",
    "    # instance method\n",
    "    def speak(self, sound):\n",
    "        return \"{} says {}\".format(self.name, sound)\n",
    "\n",
    "# Child class (inherits from Dog class)\n",
    "class RussellTerrier(Dog):\n",
    "    def run(self, speed):\n",
    "        return \"{} runs {}\".format(self.name, speed)\n",
    "\n",
    "# Child class (inherits from Dog class)\n",
    "class Bulldog(Dog):\n",
    "    def run(self, speed):\n",
    "        return \"{} runs {}\".format(self.name, speed)\n",
    "```"
   ]
  },
  {
   "cell_type": "code",
   "execution_count": 29,
   "metadata": {},
   "outputs": [
    {
     "name": "stdout",
     "output_type": "stream",
     "text": [
      "I have 3 dogs.  Tom is 6 years old . Fletcher is 7 years old . Larry is 9 years old . And they are all  mammal , of course. \n",
      "My dogs are not hungry.\n"
     ]
    }
   ],
   "source": [
    "# Parent class\n",
    "class Dog:\n",
    "\n",
    "    # Class attribute\n",
    "    species = 'mammal'\n",
    "\n",
    "    # Initializer / Instance attributes\n",
    "    def __init__(self, name, age):\n",
    "        self.name = name\n",
    "        self.age = age\n",
    "\n",
    "    # instance method\n",
    "    def description(self):\n",
    "        return \"{} is {} years old\".format(self.name, self.age)\n",
    "\n",
    "    # instance method\n",
    "    def speak(self, sound):\n",
    "        return \"{} says {}\".format(self.name, sound)\n",
    "\n",
    "    def is_hungry(self, is_hungry):\n",
    "        self.is_hungry = True\n",
    "\n",
    "    def eat(self):\n",
    "        self.is_hungry = False\n",
    "\n",
    "# Child class (inherits from Dog class)\n",
    "class RussellTerrier(Dog):\n",
    "    def run(self, speed):\n",
    "        return \"{} runs {}\".format(self.name, speed)\n",
    "\n",
    "# Child class (inherits from Dog class)\n",
    "class Bulldog(Dog):\n",
    "    def run(self, speed):\n",
    "        return \"{} runs {}\".format(self.name, speed)\n",
    "\n",
    "dog1 = Dog(\"Tom\", 6)\n",
    "dog2 = Dog(\"Fletcher\", 7)\n",
    "dog3 = Dog(\"Larry\", 9)\n",
    "\n",
    "dog1.eat()\n",
    "dog2.eat()\n",
    "dog3.eat()\n",
    "\n",
    "print(\"I have 3 dogs. \", dog1.description(),\".\", dog2.description(),\".\", dog3.description(), \". And they are all \", Dog.species,\", of course. \")\n",
    "\n",
    "if all(not d.is_hungry for d in [dog1, dog2, dog3]): #all() check if what is inside is all true -> if d.is_hungry is False, with the not it becomes True.\n",
    "    print(\"My dogs are not hungry.\")\n",
    "else:\n",
    "    print(\"My dogs are hungry.\")"
   ]
  },
  {
   "cell_type": "code",
   "execution_count": 44,
   "metadata": {},
   "outputs": [
    {
     "name": "stdin",
     "output_type": "stream",
     "text": [
      "How many dogs do you have?  5\n",
      "What's your dog_1 name?  a\n",
      "What's your dog_1 age?  6\n",
      "What's your dog_2 name?  b\n",
      "What's your dog_2 age?  7\n",
      "What's your dog_3 name?  c\n",
      "What's your dog_3 age?  8\n",
      "What's your dog_4 name?  d\n",
      "What's your dog_4 age?  9\n",
      "What's your dog_5 name?  e\n",
      "What's your dog_5 age?  9\n",
      "Have you fed some of your dogs? (Yes or No)  Yes\n",
      "How many dogs did you feed?  4\n"
     ]
    },
    {
     "name": "stdout",
     "output_type": "stream",
     "text": [
      "I have 5 dogs. a is 6 years old. b is 7 years old. c is 8 years old. d is 9 years old. e is 9 years old. And they are all mammal, of course.\n",
      "My dogs are hungry.\n"
     ]
    }
   ],
   "source": [
    "#more interactive way:\n",
    "# Parent class\n",
    "class Dog:\n",
    "\n",
    "    # Class attribute\n",
    "    species = 'mammal'\n",
    "\n",
    "    # Initializer / Instance attributes\n",
    "    def __init__(self, name, age):\n",
    "        self.name = name\n",
    "        self.age = age\n",
    "        self.is_hungry = True\n",
    "\n",
    "    # instance method\n",
    "    def description(self):\n",
    "        return \"{} is {} years old\".format(self.name, self.age)\n",
    "\n",
    "    # instance method\n",
    "    def speak(self, sound):\n",
    "        return \"{} says {}\".format(self.name, sound)\n",
    "\n",
    "  #  def is_hungry(self):\n",
    "   #     self.is_hungry = True\n",
    "\n",
    "    def eat(self):\n",
    "        self.is_hungry = False\n",
    "\n",
    "# Child class (inherits from Dog class)\n",
    "class RussellTerrier(Dog):\n",
    "    def run(self, speed):\n",
    "        return \"{} runs {}\".format(self.name, speed)\n",
    "\n",
    "# Child class (inherits from Dog class)\n",
    "class Bulldog(Dog):\n",
    "    def run(self, speed):\n",
    "        return \"{} runs {}\".format(self.name, speed)\n",
    "dogs=[]\n",
    "number = int(input(\"How many dogs do you have? \"))\n",
    "for i in range(1, number+1):\n",
    "             name = input(f\"What's your dog_{i} name? \") #input() doesn't accept more arguments as print()\n",
    "             age = int(input(f\"What's your dog_{i} age? \"))\n",
    "             dogs.append(Dog(name, age))\n",
    "x = input(\"Have you fed some of your dogs? (Yes or No) \")\n",
    "if x == \"Yes\":\n",
    "    y = int(input(\"How many dogs did you feed? \"))\n",
    "    if y == number:\n",
    "        for dog in dogs:\n",
    "            dog.eat()\n",
    "    else:\n",
    "        pass\n",
    "else:\n",
    "    pass\n",
    "\n",
    "descrip = \". \".join(d.description() for d in dogs)\n",
    "print(f\"I have {number} dogs. {descrip}. And they are all {Dog.species}, of course.\")\n",
    "\n",
    "if all(not d.is_hungry for d in dogs): #all() check if what is inside is all true -> if d.is_hungry is False, with the not it becomes True.\n",
    "    print(\"My dogs are not hungry.\")\n",
    "else:\n",
    "    print(\"My dogs are hungry.\")"
   ]
  },
  {
   "cell_type": "code",
   "execution_count": null,
   "metadata": {},
   "outputs": [],
   "source": []
  }
 ],
 "metadata": {
  "kernelspec": {
   "display_name": "Python 3 (ipykernel)",
   "language": "python",
   "name": "python3"
  },
  "language_info": {
   "codemirror_mode": {
    "name": "ipython",
    "version": 3
   },
   "file_extension": ".py",
   "mimetype": "text/x-python",
   "name": "python",
   "nbconvert_exporter": "python",
   "pygments_lexer": "ipython3",
   "version": "3.8.10"
  }
 },
 "nbformat": 4,
 "nbformat_minor": 4
}
