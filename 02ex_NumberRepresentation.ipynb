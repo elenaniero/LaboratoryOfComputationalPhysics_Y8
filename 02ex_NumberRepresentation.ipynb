{
 "cells": [
  {
   "cell_type": "markdown",
   "metadata": {},
   "source": [
    "1\\. Write a function that converts number representation, bin<->dec<->hex. (Clearly using the corresponding python built-in functions is not fair..)"
   ]
  },
  {
   "cell_type": "code",
   "execution_count": null,
   "metadata": {},
   "outputs": [],
   "source": [
    "#Da migliorareee\n",
    "import math\n",
    "\n",
    "#binario->decimale:\n",
    "def bindec(num):\n",
    "    x= [int(x) for x in num]\n",
    "    x.reverse()\n",
    "    w = 0\n",
    "    dec = 0\n",
    "    for i in range(len(x)-1):\n",
    "        w += x[i]*(2**i)\n",
    "\n",
    "    dec = w * (-1)**(x[len(x)-1])\n",
    "    return dec\n",
    "\n",
    "#decimale->binario: \n",
    "def decbin(w, x):\n",
    "    if x==0:\n",
    "        w = [0]\n",
    "        return w\n",
    "    else:\n",
    "        if x//2 == 0:\n",
    "            w.append(1)\n",
    "            return w\n",
    "        else:\n",
    "            a = x%2\n",
    "            w.append(a)\n",
    "            return decbin(w, x//2)\n",
    "\n",
    "#esadecimale->decimale:\n",
    "def hexdec(num):\n",
    "    x= [int(x) for x in num]\n",
    "    x.reverse()\n",
    "    w = 0\n",
    "    dec = 0\n",
    "    for i in range(len(x)-1):\n",
    "        w += x[i]*(16**i)\n",
    "\n",
    "    dec = w * (-1)**(x[len(x)-1])\n",
    "    return dec\n",
    "\n",
    "#decimale->esadecimale:\n",
    "def dechex(w, x):\n",
    "    if x==0:\n",
    "        w = [0]\n",
    "        return w\n",
    "    else:\n",
    "        if x//16 == 0:\n",
    "            w.append(x)\n",
    "            return w\n",
    "        else:\n",
    "            a = x%16\n",
    "            w.append(a)\n",
    "            return dechex(w, x//16)\n",
    "\n",
    "num = input(\"Which number do you want to start from? \")\n",
    "repr_in = input(\"Which representation did you use? (write 'dec', 'bin' or 'hex') \")\n",
    "repr_fin = input(\"In which representation do you want it? (write 'dec', 'bin' or 'hex') \")\n",
    "\n",
    "if repr_in == \"dec\":\n",
    "    n = []\n",
    "    if repr_fin == \"bin\":\n",
    "        b = decbin(n, int(num))\n",
    "        b.reverse()\n",
    "        print(b)\n",
    "    elif repr_fin == \"hex\":\n",
    "        b = dechex(n, int(num))\n",
    "        b.reverse()\n",
    "        print(b)\n",
    "    else:\n",
    "        print(\"Conversione impossibile\")\n",
    "\n",
    "elif repr_in == \"bin\":\n",
    "    if repr_fin == \"dec\":\n",
    "        b = bindec(num)\n",
    "        print(b)\n",
    "    elif repr_fin == \"hex\":\n",
    "        b = bindec(num)\n",
    "        n = []\n",
    "        c = dechex(n,b)\n",
    "        c.reverse()\n",
    "        print(c)\n",
    "    else:\n",
    "        print(\"Conversione impossibile\")\n",
    "\n",
    "elif repr_in == \"hex\":\n",
    "    if repr_fin == \"dec\":\n",
    "        b = hexdec(num)\n",
    "        print(b)\n",
    "    elif repr_fin == \"bin\":\n",
    "        b = hexdec(num)\n",
    "        n = []\n",
    "        c = decbin(n, b)\n",
    "        c.reverse()\n",
    "        print(c)\n",
    "    else:\n",
    "        print(\"Conversione impossibile\")\n",
    "\n",
    "else:\n",
    "    print(\"Conversione impossibile\")\n",
    "\n",
    "           \n"
   ]
  },
  {
   "cell_type": "markdown",
   "metadata": {},
   "source": [
    "2\\. Write a function that converts a 32 bit word into a single precision floating point (i.e. interprets the various bits as sign, mantissa and exponent)"
   ]
  },
  {
   "cell_type": "code",
   "execution_count": 24,
   "metadata": {},
   "outputs": [
    {
     "name": "stdin",
     "output_type": "stream",
     "text": [
      "Set a 32-bit number:  11000000101100000000000000000000\n"
     ]
    },
    {
     "name": "stdout",
     "output_type": "stream",
     "text": [
      "[1, 0, 0, 0, 0, 0, 0, 1]\n",
      "[0, 0, 0, 0, 0, 0, 0, 0, 0, 0, 0, 0, 0, 0, 0, 0, 0, 0, 0, 0, 1, 1, 0]\n",
      "1\n",
      "129\n",
      "1.375\n",
      "-5.5\n"
     ]
    }
   ],
   "source": [
    "import math\n",
    "\n",
    "#binario->decimale:\n",
    "def bindec(num):\n",
    "    x= [int(x) for x in num]\n",
    "    x.reverse()\n",
    "    exp = 0\n",
    "    dec = 0\n",
    "    mant = 0\n",
    "    bias = 127\n",
    "    sign = x[-1]\n",
    "    e = x[-9 : -1]\n",
    "    m = x[0 : 23]\n",
    "    for i in range(8):\n",
    "        exp += e[i]*(2**i)\n",
    "    for j in range(23):\n",
    "        mant += m[j]*2**(- 23 + j) \n",
    "        mantt = mant + 1\n",
    "        \n",
    "    dec = mantt * (-1) ** (sign) * 2 ** (exp - bias)\n",
    "    print(e)\n",
    "    print(m)\n",
    "    print(sign)\n",
    "    print(exp)\n",
    "    print(mantt)\n",
    "    print(dec)\n",
    "\n",
    "a = input(\"Set a 32-bit number: \")\n",
    "b = bindec(a)"
   ]
  },
  {
   "cell_type": "markdown",
   "metadata": {},
   "source": [
    "3\\. Write a program to determine the underflow and overflow limits (within a factor of 2) for python on your computer. \n",
    "\n",
    "**Tips**: define two variables inizialized to 1 and halve/double them enough time to exceed the under/over-flow limits  "
   ]
  },
  {
   "cell_type": "code",
   "execution_count": 1,
   "metadata": {},
   "outputs": [
    {
     "name": "stdout",
     "output_type": "stream",
     "text": [
      "Limite di over flow:  8.98846567431158e+307\n",
      "Limite di under flow:  5e-324\n"
     ]
    }
   ],
   "source": [
    "import math\n",
    "\n",
    "def find_overflow():\n",
    "    x = 1\n",
    "    while True:\n",
    "        prev = x\n",
    "        x = x*2.0\n",
    "        if x == float('inf'):\n",
    "            return(prev)\n",
    "\n",
    "def find_underflow():\n",
    "    x = 1\n",
    "    while True:\n",
    "        prev = x\n",
    "        x = x/2.0\n",
    "        if x == 0.0:\n",
    "            return(prev)\n",
    "\n",
    "overflow_limit = find_overflow()\n",
    "underflow_limit = find_underflow()\n",
    "\n",
    "print(\"Limite di over flow: \", overflow_limit)\n",
    "print(\"Limite di under flow: \", underflow_limit)\n"
   ]
  },
  {
   "cell_type": "markdown",
   "metadata": {},
   "source": [
    "4\\. Write a program to determine the machine precision\n",
    "\n",
    "**Tips**: define a new variable by adding a smaller and smaller value (proceeding similarly to prob. 2) to an original variable and check the point where the two are the same "
   ]
  },
  {
   "cell_type": "code",
   "execution_count": 15,
   "metadata": {},
   "outputs": [
    {
     "name": "stdout",
     "output_type": "stream",
     "text": [
      "La precisione è:  1e-15\n"
     ]
    }
   ],
   "source": [
    "import math\n",
    "\n",
    "def find_precision():\n",
    "    x = 1.0\n",
    "    for i in range(1, 20):\n",
    "        y = x + 10**(-i)\n",
    "        if y == x:\n",
    "            return(10**(-i+1))\n",
    "\n",
    "b = find_precision()\n",
    "print(\"La precisione è: \", b)"
   ]
  },
  {
   "cell_type": "markdown",
   "metadata": {},
   "source": [
    "5\\. Write a function that takes in input three parameters $a$, $b$ and $c$ and prints out the two solutions to the quadratic equation $ax^2+bx+c=0$ using the standard formula:\n",
    "$$\n",
    "x=\\frac{-b\\pm\\sqrt{b^2-4ac}}{2a}\n",
    "$$\n",
    "\n",
    "(a) use the program to compute the solution for $a=0.001$, $b=1000$ and $c=0.001$\n",
    "\n",
    "(b) re-express the standard solution formula by multiplying top and bottom by $-b\\mp\\sqrt{b^2-4ac}$ and again find the solution for $a=0.001$, $b=1000$ and $c=0.001$. How does it compare with what previously obtained? Why?\n",
    "\n",
    "(c) write a function that compute the roots of a quadratic equation accurately in all cases"
   ]
  },
  {
   "cell_type": "code",
   "execution_count": 4,
   "metadata": {},
   "outputs": [
    {
     "name": "stdout",
     "output_type": "stream",
     "text": [
      "a)  -9.999894245993346e-07 ,  -999999.999999\n",
      "b)  -1.000000000001e-06 ,  -1000010.5755125057\n"
     ]
    }
   ],
   "source": [
    "import math\n",
    "\n",
    "def a_solve_equation(a,b,c):\n",
    "    x_1 = ((- b + math.sqrt(b**2-4*a*c)) / (2*a))\n",
    "    x_2 = ((- b - math.sqrt(b**2-4*a*c)) / (2*a))\n",
    "    print(\"a) \", x_1, \", \", x_2)\n",
    "    return(x_1, x_2)\n",
    "\n",
    "def b_solve_equation(a,b,c):\n",
    "    x_1 = -2*c/(b+math.sqrt(b**2-4*a*c))\n",
    "    x_2 = -2*c/(b-math.sqrt(b**2-4*a*c))\n",
    "    print(\"b) \", x_1, \", \", x_2)\n",
    "    return(x_1, x_2)\n",
    "\n",
    "a = 0.001\n",
    "b = 1000\n",
    "c = 0.001\n",
    "\n",
    "ris_a = a_solve_equation(a,b,c)\n",
    "ris_b = b_solve_equation(a,b,c)\n"
   ]
  },
  {
   "cell_type": "markdown",
   "metadata": {},
   "source": [
    "6\\. Write a program that implements the function $f(x)=x(x−1)$\n",
    "\n",
    "(a) Calculate the derivative of the function at the point $x = 1$ using the derivative definition:\n",
    "\n",
    "$$\n",
    "\\frac{{\\rm d}f}{{\\rm d}x} = \\lim_{\\delta\\to0} \\frac{f(x+\\delta)-f(x)}{\\delta}\n",
    "$$\n",
    "\n",
    "with $\\delta = 10^{−2}$. Calculate the true value of the same derivative analytically and compare with the answer your program gives. The two will not agree perfectly. Why not?\n",
    "\n",
    "(b) Repeat the calculation for $\\delta = 10^{−4}, 10^{−6}, 10^{−8}, 10^{−10}, 10^{−12}$ and $10^{−14}$. How does the accuracy scales with $\\delta$?"
   ]
  },
  {
   "cell_type": "code",
   "execution_count": 36,
   "metadata": {},
   "outputs": [
    {
     "name": "stdout",
     "output_type": "stream",
     "text": [
      "Analytical derivative of f(x)=x(x-1) in x = 1:  1.0\n",
      "Derivative of f(x)=x(x-1) with d =  0.01 :  1.010000000000001 Error:  0.010000000000000897\n",
      "Derivative of f(x)=x(x-1) with d =  0.0001 :  1.0000999999998899 Error:  9.999999988985486e-05\n",
      "Derivative of f(x)=x(x-1) with d =  1e-06 :  1.0000009999177333 Error:  9.99917733279787e-07\n",
      "Derivative of f(x)=x(x-1) with d =  1e-08 :  1.0000000039225287 Error:  3.922528746258536e-09\n",
      "Derivative of f(x)=x(x-1) with d =  1e-10 :  1.000000082840371 Error:  8.284037100736441e-08\n",
      "Derivative of f(x)=x(x-1) with d =  1e-12 :  1.0000889005833413 Error:  8.890058334132256e-05\n",
      "Derivative of f(x)=x(x-1) with d =  1e-14 :  0.9992007221626509 Error:  0.0007992778373491216\n",
      "Derivative of f(x)=x(x-1) with d =  1e-16 :  0.0 Error:  1.0\n",
      "[0.01, 0.0001, 1e-06, 1e-08, 1e-10, 1e-12, 1e-14, 1e-16]\n",
      "[0.010000000000000897, 9.999999988985486e-05, 9.99917733279787e-07, 3.922528746258536e-09, 8.284037100736441e-08, 8.890058334132256e-05, 0.0007992778373491216, 1.0]\n"
     ]
    },
    {
     "data": {
      "image/png": "[encoded data removed]",
      "text/plain": [
       "<Figure size 700x500 with 1 Axes>"
      ]
     },
     "metadata": {},
     "output_type": "display_data"
    }
   ],
   "source": [
    "import numpy as np\n",
    "import math\n",
    "import matplotlib.pyplot as plt\n",
    "\n",
    "def f(m):\n",
    "    return(m*(m-1))\n",
    "\n",
    "def derivative(m, delta):\n",
    "    df = (f(m+delta) - f(m))/delta\n",
    "    return(df)\n",
    "\n",
    "x = 1.0\n",
    "true_der = 2*x-1\n",
    "print (\"Analytical derivative of f(x)=x(x-1) in x = 1: \", true_der)\n",
    "\n",
    "deltas = [10**(-i) for i in range(2, 17, 2)]\n",
    "error = []\n",
    "\n",
    "for d in deltas:\n",
    "    x = 1.0\n",
    "    errors = abs(derivative(x,d)-true_der)\n",
    "    error.append(errors)\n",
    "    print (\"Derivative of f(x)=x(x-1) with d = \", d ,\": \", derivative(x,d), \"Error: \", errors)\n",
    "print(deltas)\n",
    "print(error)\n",
    "plt.figure(figsize=(7,5))\n",
    "plt.loglog(deltas, error, 'o-', linewidth=2, markersize=6)\n",
    "plt.xlabel(\"Delta (δ)\", fontsize=12)\n",
    "plt.ylabel(\"Errore assoluto\", fontsize=12)\n",
    "plt.title(\"Errore del differenziale numerico vs Δ\", fontsize=14)\n",
    "plt.grid(True, which=\"both\", ls=\"--\", lw=0.5)\n",
    "plt.show()\n",
    "\n",
    "\n",
    "\n"
   ]
  },
  {
   "cell_type": "markdown",
   "metadata": {},
   "source": [
    "7\\. Consider the integral of the semicircle of radius 1:\n",
    "$$\n",
    "I=\\int_{-1}^{1} \\sqrt(1-x^2) {\\rm d}x\n",
    "$$\n",
    "which it's known to be $I=\\frac{\\pi}{2}=1.57079632679...$.\n",
    "Alternatively we can use the Riemann definition of the integral:\n",
    "$$\n",
    "I=\\lim_{N\\to\\infty} \\sum_{k=1}^{N} h y_k \n",
    "$$\n",
    "\n",
    "with $h=2/N$ the width of each of the $N$ slices the domain is divided into and where\n",
    "$y_k$ is the value of the function at the $k-$th slice.\n",
    "\n",
    "(a) Write a programe to compute the integral with $N=100$. How does the result compares to the true value?\n",
    "\n",
    "(b) How much can $N$ be increased if the computation needs to be run in less than a second? What is the gain in running it for 1 minute? \n"
   ]
  },
  {
   "cell_type": "code",
   "execution_count": 47,
   "metadata": {},
   "outputs": [
    {
     "name": "stdout",
     "output_type": "stream",
     "text": [
      "1.5534179294048955\n"
     ]
    }
   ],
   "source": [
    "import math\n",
    "import numpy as np\n",
    "\n",
    "def f(x):\n",
    "    return(math.sqrt(1-x**2))\n",
    "    \n",
    "def integ(N):\n",
    "    I = 0\n",
    "    for x in np.linspace(-1, +1, N):\n",
    "        I += (2/N)*f(x)\n",
    "    return(I)\n",
    "\n",
    "M = 100\n",
    "print(integ(M))\n",
    "    "
   ]
  },
  {
   "cell_type": "code",
   "execution_count": null,
   "metadata": {},
   "outputs": [],
   "source": []
  }
 ],
 "metadata": {
  "kernelspec": {
   "display_name": "Python 3 (ipykernel)",
   "language": "python",
   "name": "python3"
  },
  "language_info": {
   "codemirror_mode": {
    "name": "ipython",
    "version": 3
   },
   "file_extension": ".py",
   "mimetype": "text/x-python",
   "name": "python",
   "nbconvert_exporter": "python",
   "pygments_lexer": "ipython3",
   "version": "3.8.10"
  }
 },
 "nbformat": 4,
 "nbformat_minor": 4
}
